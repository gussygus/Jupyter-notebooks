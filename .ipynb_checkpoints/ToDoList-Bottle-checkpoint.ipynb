{
 "cells": [
  {
   "cell_type": "code",
   "execution_count": null,
   "metadata": {},
   "outputs": [],
   "source": [
    "pip install sqlite3"
   ]
  },
  {
   "cell_type": "code",
   "execution_count": null,
   "metadata": {},
   "outputs": [],
   "source": [
    "import sqlite3\n",
    "\n",
    "conn = sqlite3.connect('todo.db')\n",
    "conn.execute(\"CREATE TABLE todo (id INTEGER PRIMARY KEY, task char(100) NOT NULL, status bool NOT NULL)\")\n",
    "conn.execute(\"INSERT INTO todo (task,status) VALUES ('Crear hola mundo en bottlepy',1)\")\n",
    "conn.execute(\"INSERT INTO todo (task,status) VALUES ('Documentar su creación en jupyter',1)\")\n",
    "conn.execute(\"INSERT INTO todo (task,status) VALUES ('Crear un proyecto nuevo de una lista ToDo',0)\")\n",
    "conn.execute(\"INSERT INTO todo (task,status) VALUES ('Documentar creación de ToDo en jupyter',0)\")\n",
    "conn.commit()"
   ]
  },
  {
   "cell_type": "code",
   "execution_count": null,
   "metadata": {},
   "outputs": [],
   "source": [
    "import sqlite3\n",
    "from bottle import Bottle, run\n",
    "\n",
    "app = Bottle()\n",
    "\n",
    "@app.route('/todo')\n",
    "@app.route('/')\n",
    "def todo_list():\n",
    "    connection = sqlite3.connect('todo.db')\n",
    "    cursor = connection.cursor()\n",
    "    cursor.execute(\"SELECT id, task FROM todo WHERE status LIKE '1'\")\n",
    "    result = cursor.fetchall()\n",
    "    return str(result)\n",
    "\n",
    "run(app, host='0.0.0.0', port=5000, debug=True)"
   ]
  },
  {
   "cell_type": "code",
   "execution_count": null,
   "metadata": {},
   "outputs": [],
   "source": [
    "import sqlite3\n",
    "from bottle import Bottle, run, template\n",
    "\n",
    "app = Bottle()\n",
    "\n",
    "@app.route('/todo')\n",
    "@app.route('/')\n",
    "def todo_list():\n",
    "    connection = sqlite3.connect('todo.db')\n",
    "    cursor = connection.cursor()\n",
    "    cursor.execute(\"SELECT id, task FROM todo WHERE status LIKE '1'\")\n",
    "    result = cursor.fetchall()\n",
    "    output = template('make_table', rows=result)\n",
    "    return output\n",
    "\n",
    "run(app, host='0.0.0.0', port=5000, debug=True)"
   ]
  },
  {
   "cell_type": "code",
   "execution_count": 1,
   "metadata": {},
   "outputs": [
    {
     "name": "stderr",
     "output_type": "stream",
     "text": [
      "Bottle v0.12.16 server starting up (using WSGIRefServer())...\n",
      "Listening on http://0.0.0.0:5000/\n",
      "Hit Ctrl-C to quit.\n",
      "\n",
      "10.0.2.2 - - [21/Mar/2019 11:10:40] \"GET / HTTP/1.1\" 200 562\n",
      "10.0.2.2 - - [21/Mar/2019 11:10:46] \"GET /new HTTP/1.1\" 200 488\n",
      "10.0.2.2 - - [21/Mar/2019 11:11:25] \"GET /new HTTP/1.1\" 200 489\n",
      "/home/vagrant/.local/share/virtualenvs/Jupyternotebooks-vMpxa5dg/lib/python3.6/site-packages/bottle.py:3131: ResourceWarning: unclosed <socket.socket fd=50, family=AddressFamily.AF_INET, type=SocketKind.SOCK_STREAM, proto=0, laddr=('0.0.0.0', 5000)>\n",
      "  pass\n"
     ]
    }
   ],
   "source": [
    "import sqlite3\n",
    "from bottle import Bottle, run, template, request\n",
    "\n",
    "app = Bottle()\n",
    "\n",
    "@app.route('/todo')\n",
    "@app.route('/')\n",
    "def todo_list():\n",
    "    connection = sqlite3.connect('todo.db')\n",
    "    cursor = connection.cursor()\n",
    "    cursor.execute(\"SELECT id, task FROM todo WHERE status LIKE '1'\")\n",
    "    result = cursor.fetchall()\n",
    "    output = template('make_table', rows=result)\n",
    "    return output\n",
    "\n",
    "@app.route('/new', method='GET')\n",
    "def new_item():\n",
    "    return template('new_task.tpl')\n",
    "@app.route('/new', method='POST')\n",
    "def new_item_do():\n",
    "    \n",
    "    new_item = request.POST.task.strip()\n",
    "    #new = request.forms.get('task').strip()\n",
    "    \n",
    "    connection = sqlite3.connect('todo.db')\n",
    "    cursor = connection.cursor()\n",
    "    \n",
    "    cursor.execute(\"INSERT INTO todo (task,status) VALUES (?,?)\", (new_item, 0))\n",
    "    new_id = cursor.lastrowid\n",
    "    \n",
    "    connection.commit()\n",
    "    cursor.close()\n",
    "    \n",
    "    return f\"\"\"\n",
    "    <meta HTTP-EQUIV=\"REFRESH\" content=\"5; url={request.urlparts[0]+'://'+request.urlparts[1]}/\">\n",
    "    <p>The new task was inserted into the database, the ID is{ new_id }</p>\"\"\"\n",
    "    \n",
    "run(app, host='0.0.0.0', port=5000, debug=True)"
   ]
  },
  {
   "cell_type": "code",
   "execution_count": null,
   "metadata": {},
   "outputs": [],
   "source": []
  },
  {
   "cell_type": "code",
   "execution_count": null,
   "metadata": {},
   "outputs": [],
   "source": []
  }
 ],
 "metadata": {
  "kernelspec": {
   "display_name": "Python 3",
   "language": "python",
   "name": "python3"
  },
  "language_info": {
   "codemirror_mode": {
    "name": "ipython",
    "version": 3
   },
   "file_extension": ".py",
   "mimetype": "text/x-python",
   "name": "python",
   "nbconvert_exporter": "python",
   "pygments_lexer": "ipython3",
   "version": "3.6.8"
  }
 },
 "nbformat": 4,
 "nbformat_minor": 2
}
