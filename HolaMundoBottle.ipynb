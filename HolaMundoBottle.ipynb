{
 "cells": [
  {
   "cell_type": "markdown",
   "metadata": {},
   "source": [
    "## route()\n",
    "\n",
    "**route()** es un decorador que conecta una función a una URL, en este caso conectamos a la ruta \n",
    "/hola a la función hello().Esto es llamado una ruta, y es uno de los conceptos mas importantes \n",
    "de este framework. Se pueden definir tantas rutas como sean necesarias, y cuando desde un\n",
    "navegador solicite una URL, la funcion asociada a esa ruta será ejecutada y responderá al \n",
    "navegador."
   ]
  },
  {
   "cell_type": "markdown",
   "metadata": {},
   "source": [
    "La función **run()** en las ultimas lineas inicia el servidor web de \n",
    "desarrollo, este se ejecuta en local en el puerto 8080(puede definirse\n",
    "el puerto), y responde a las solicitudes hasta que presionamos ctrl-C.\n",
    "Podemos cambiar el servidor , esto en caso de llevar a \"producción\"\n",
    "nuestra aplicación, pero para desarrollo con las opciones default nos\n",
    "es suficiente, no necesita instalarse y es lo mas sencillo para probar\n",
    "nuestra aplicación."
   ]
  },
  {
   "cell_type": "code",
   "execution_count": null,
   "metadata": {},
   "outputs": [],
   "source": [
    "pip install bottle"
   ]
  },
  {
   "cell_type": "code",
   "execution_count": null,
   "metadata": {
    "scrolled": true
   },
   "outputs": [],
   "source": [
    "from bottle import route, run\n",
    "\n",
    "@route('/hola')\n",
    "def hello():\n",
    "        return \"Hola Mundo!\"\n",
    "run(host='0.0.0.0', port=5000, debug=True)"
   ]
  },
  {
   "cell_type": "markdown",
   "metadata": {},
   "source": [
    "## La aplicación default\n",
    "\n",
    "Podemos observar en el ejemplo que usamos el decorador **route()** para\n",
    "definir las rutas , esto añade las rutas a nuestra aplicacion default,\n",
    "una instancia que se crea la primera vez que usamos el decorador \n",
    "**route()**, pero para seguir un enfoque mas orientado a objetos,\n",
    "crearemos primero la instancia de la aplicación y añadiremos estas\n",
    "rutas a nuestra instancia explicitamente."
   ]
  },
  {
   "cell_type": "code",
   "execution_count": null,
   "metadata": {},
   "outputs": [],
   "source": [
    "from bottle import Bottle, run\n",
    "\n",
    "app = Bottle()\n",
    "\n",
    "@app.route('/hola')\n",
    "def hello():\n",
    "        return \"Hola Mundo!\"\n",
    "run(app, host='0.0.0.0', port=5000, debug=True)"
   ]
  },
  {
   "cell_type": "markdown",
   "metadata": {},
   "source": [
    "## Añadiendo una ruta mas\n",
    "\n",
    "Podemos añadir mas de una ruta a una función, además podemos añadir\n",
    "**\"comodines\"(wildcards)** a la ruta para hacerla mas dinámica. Además\n",
    "veremos en acción el modulo template, donde nuestra función regresará\n",
    "un valor y será reemplazado en nuestro HTML."
   ]
  },
  {
   "cell_type": "code",
   "execution_count": null,
   "metadata": {},
   "outputs": [],
   "source": [
    "from bottle import Bottle, run, template\n",
    "\n",
    "app = Bottle()\n",
    "\n",
    "@app.route('/')\n",
    "@app.route('/hola/<name>')\n",
    "def hello(name='pinche putita'):\n",
    "        return template('Hola {{name}}, cómo estás?', name=name)\n",
    "run(app, host='0.0.0.0', port=5000, debug=True)"
   ]
  },
  {
   "cell_type": "markdown",
   "metadata": {},
   "source": []
  },
  {
   "cell_type": "code",
   "execution_count": null,
   "metadata": {},
   "outputs": [
    {
     "name": "stderr",
     "output_type": "stream",
     "text": [
      "Bottle v0.12.16 server starting up (using WSGIRefServer())...\n",
      "Listening on http://0.0.0.0:5000/\n",
      "Hit Ctrl-C to quit.\n",
      "\n",
      "10.0.2.2 - - [15/Mar/2019 11:05:26] \"GET / HTTP/1.1\" 200 28\n",
      "10.0.2.2 - - [15/Mar/2019 11:05:32] \"GET /login HTTP/1.1\" 200 219\n",
      "10.0.2.2 - - [15/Mar/2019 11:05:40] \"POST /login HTTP/1.1\" 303 0\n",
      "10.0.2.2 - - [15/Mar/2019 11:05:40] \"GET /logged/Agustin HTTP/1.1\" 200 19\n"
     ]
    }
   ],
   "source": [
    "from bottle import Bottle, run, template, request, redirect\n",
    "\n",
    "app = Bottle()\n",
    "\n",
    "@app.route('/')\n",
    "@app.route('/hola/<name>')\n",
    "def hello(name='Extraño'):\n",
    "        return template('Hola {{name}}, cómo estás?', name=name)\n",
    "\n",
    "@app.route('/logged/<name>')\n",
    "def logged(name='Extraño'):\n",
    "    return template('''you are in! {{name}}''',name=name)\n",
    "\n",
    "def checklogin(username, password):\n",
    "    isLogged=False\n",
    "    if username == \"Agustin\" and password == '123':\n",
    "        isLogged=True\n",
    "    return isLogged\n",
    "\n",
    "@app.route('/login', method='GET')\n",
    "def login():\n",
    "    isFailed= '0' if request.query.Failed == '' else request.query.Failed\n",
    "    \n",
    "    formString= '''<form action=\"/login\" method=\"post\">\n",
    "        Username: <input name=\"username\" type=\"text\" />\n",
    "        Password: <input name=\"password\" type=\"password\" />\n",
    "        <input value=\"login\" type=\"submit\" />\n",
    "        </form>\n",
    "    '''\n",
    "    if int(isFailed) == 1:\n",
    "        return '<p><strong>Login failed! </p>'+formString\n",
    "    else:\n",
    "        return formString\n",
    "\n",
    "@app.post('/login') # or @route('/login', method='POST')\n",
    "def do_login():\n",
    "    username = request.forms.get('username')\n",
    "    password = request.forms.get('password')\n",
    "    if checklogin(username, password):\n",
    "        redirect(f\"/logged/{username}\")\n",
    "    else:\n",
    "        redirect(f\"/login?Failed=1\")     \n",
    "    \n",
    "run(app, host='0.0.0.0', port=5000, debug=True)\n"
   ]
  },
  {
   "cell_type": "code",
   "execution_count": null,
   "metadata": {},
   "outputs": [],
   "source": []
  }
 ],
 "metadata": {
  "kernelspec": {
   "display_name": "Python 3",
   "language": "python",
   "name": "python3"
  },
  "language_info": {
   "codemirror_mode": {
    "name": "ipython",
    "version": 3
   },
   "file_extension": ".py",
   "mimetype": "text/x-python",
   "name": "python",
   "nbconvert_exporter": "python",
   "pygments_lexer": "ipython3",
   "version": "3.6.8"
  }
 },
 "nbformat": 4,
 "nbformat_minor": 2
}
