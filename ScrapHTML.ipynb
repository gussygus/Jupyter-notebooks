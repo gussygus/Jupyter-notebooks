{
 "cells": [
  {
   "cell_type": "code",
   "execution_count": null,
   "metadata": {},
   "outputs": [],
   "source": [
    "pip install requests"
   ]
  },
  {
   "cell_type": "code",
   "execution_count": null,
   "metadata": {},
   "outputs": [],
   "source": [
    "pip install lxml"
   ]
  },
  {
   "cell_type": "code",
   "execution_count": null,
   "metadata": {},
   "outputs": [],
   "source": [
    "from bottle import Bottle,run,template,request,redirect\n",
    "\n",
    "app=Bottle()\n",
    "\n",
    "@app.route('/')\n",
    "@app.route('/games')\n",
    "def game():\n",
    "    class Game:\n",
    "\n",
    "        def __init__(self,title,price,tags,platforms):\n",
    "                self.title= title\n",
    "                self.price=  price\n",
    "                self.tags= tags\n",
    "                self.platforms= platforms\n",
    "\n",
    "    import requests\n",
    "    import lxml.html\n",
    "\n",
    "    html = requests.get ('https://store.steampowered.com/explore/new/')\n",
    "\n",
    "    #print(html.content)\n",
    "\n",
    "    doc = lxml.html.fromstring(html.content)\n",
    "\n",
    "    newReleases = doc.xpath('//div[@id=\"tab_newreleases_content\"]')[0]\n",
    "\n",
    "    #print(newReleases)\n",
    "\n",
    "    tittles=newReleases.xpath('.//div[@class=\"tab_item_name\"]/text()')\n",
    "\n",
    "    #print(tittles)\n",
    "\n",
    "    prices = newReleases.xpath('.//div[@class=\"discount_final_price\"]/text()')\n",
    "\n",
    "    #print(prices)\n",
    "\n",
    "    tags = newReleases.xpath('.//div[@class=\"tab_item_top_tags\"]')\n",
    "\n",
    "    totalTags=[]\n",
    "\n",
    "    for tag in tags:\n",
    "        totalTags.append(tag.text_content())\n",
    "\n",
    "    totalTags = [tag.split(', ') for tag in totalTags]\n",
    "\n",
    "    #print(totalTags)\n",
    "\n",
    "    platformsDiv = newReleases.xpath('.//div[@class=\"tab_item_details\"]')\n",
    "\n",
    "    totalPlatforms=[]\n",
    "\n",
    "    for game in platformsDiv:\n",
    "        namePlatform = game.xpath('.//span[contains(@class, \"platform_img\")]')\n",
    "        platforms=[t.get('class').split(' ')[-1] for t in namePlatform]\n",
    "        if 'had_separator' in platforms:\n",
    "            platforms.remove('had separator')\n",
    "        totalPlatforms.append(platforms)\n",
    "\n",
    "    \n",
    "    #print(totalPlatforms)\n",
    "    listGames = []\n",
    "\n",
    "    for info in zip(tittles,prices,totalTags,totalPlatforms):\n",
    "        lista=[info[0],info[1],info[2],info[3]]\n",
    "        listGames.append(lista)\n",
    "    \n",
    "    output=template('table_games',rows=listGames)\n",
    "    return output\n",
    "run(app,host='0.0.0.0',port=5000,debug=True)"
   ]
  },
  {
   "cell_type": "code",
   "execution_count": null,
   "metadata": {},
   "outputs": [],
   "source": []
  }
 ],
 "metadata": {
  "kernelspec": {
   "display_name": "Python 3",
   "language": "python",
   "name": "python3"
  },
  "language_info": {
   "codemirror_mode": {
    "name": "ipython",
    "version": 3
   },
   "file_extension": ".py",
   "mimetype": "text/x-python",
   "name": "python",
   "nbconvert_exporter": "python",
   "pygments_lexer": "ipython3",
   "version": "3.6.8"
  }
 },
 "nbformat": 4,
 "nbformat_minor": 2
}
